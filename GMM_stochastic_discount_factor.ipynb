{
 "cells": [
  {
   "cell_type": "markdown",
   "metadata": {},
   "source": [
    "## Hansen & Singleton (1982)"
   ]
  },
  {
   "cell_type": "markdown",
   "metadata": {},
   "source": [
    "O intuito deste trabalho é replicar o trabalho de Hansen, Lars Peter, and Kenneth J. Singleton. \"Generalized instrumental variables estimation of nonlinear rational expectations models.\" Econometrica (1982): 1269-1286 com dados brasileiros de retorno do ibovespa, futuro DI de 1 mês representando o ativo livre de risco e consumo."
   ]
  },
  {
   "cell_type": "code",
   "execution_count": 1,
   "metadata": {},
   "outputs": [],
   "source": [
    "import math\n",
    "import numpy as np\n",
    "import pandas as pd\n",
    "import matplotlib.pyplot as plt\n",
    "import seaborn as sns\n",
    "import statsmodels.formula.api as sm\n",
    "\n",
    "from datetime import datetime, timedelta\n",
    "import pandas_datareader.data as web\n",
    "from calendar import monthrange\n",
    "\n",
    "from scipy.optimize import minimize\n",
    "from statsmodels.sandbox.regression import gmm"
   ]
  },
  {
   "cell_type": "code",
   "execution_count": 2,
   "metadata": {},
   "outputs": [],
   "source": [
    "# criando um dataframe com as datas diárias e com frequência trimestral de 01/01/2000 até hoje\n",
    "date_today = datetime.now().date()\n",
    "days = pd.date_range(start = '2000-01-01', end = date_today, freq='D')\n",
    "months = pd.date_range(start = '2012-06-30', end = date_today, freq='M')\n",
    "quarters = pd.date_range(start = '2012-06-30', end = date_today, freq='Q')"
   ]
  },
  {
   "cell_type": "code",
   "execution_count": 3,
   "metadata": {},
   "outputs": [],
   "source": [
    "# função que se a entrada for NaN toma o valor do dia anterior\n",
    "def normalize_nan(df):\n",
    "    for i in range(len(df)):\n",
    "        if i == 0:\n",
    "            pass\n",
    "        elif math.isnan(df.iloc[i]) == True:\n",
    "            df.iloc[i] = df.iloc[i-1]\n",
    "        else:\n",
    "            continue"
   ]
  },
  {
   "cell_type": "code",
   "execution_count": 4,
   "metadata": {},
   "outputs": [],
   "source": [
    "# função que recebe código do BC e devolve uma série de acordo\n",
    "# códigos e séries podem ser encontrados em https://www3.bcb.gov.br/sgspub/localizarseries/localizarSeries.do?method=prepararTelaLocalizarSeries\n",
    "def consulta_bc(codigo_bcb):\n",
    "  url = 'http://api.bcb.gov.br/dados/serie/bcdata.sgs.{}/dados?formato=json'.format(codigo_bcb)\n",
    "  df = pd.read_json(url)\n",
    "  df['data'] = pd.to_datetime(df['data'], dayfirst=True)\n",
    "  df.set_index('data', inplace=True)\n",
    "  return df"
   ]
  },
  {
   "cell_type": "code",
   "execution_count": 5,
   "metadata": {},
   "outputs": [],
   "source": [
    "ipca = pd.DataFrame(consulta_bc(433), index=days)"
   ]
  },
  {
   "cell_type": "code",
   "execution_count": 6,
   "metadata": {},
   "outputs": [],
   "source": [
    "normalize_nan(ipca)"
   ]
  },
  {
   "cell_type": "code",
   "execution_count": 7,
   "metadata": {},
   "outputs": [],
   "source": [
    "# transformando os dados em decimais\n",
    "ipca = ipca/100"
   ]
  },
  {
   "cell_type": "code",
   "execution_count": 8,
   "metadata": {},
   "outputs": [],
   "source": [
    "ipca = ipca.loc[months]"
   ]
  },
  {
   "cell_type": "code",
   "execution_count": 9,
   "metadata": {},
   "outputs": [],
   "source": [
    "ipca['valor_{t-1}'] = ipca['valor'].shift(1)\n",
    "ipca['valor_{t-2}'] = ipca['valor'].shift(2)"
   ]
  },
  {
   "cell_type": "markdown",
   "metadata": {},
   "source": [
    "Para obter a inflação e tornar as séries reais utilizaremos o Índice de Preços do Consumidor Amplo (IPCA). Como a periodicidade é trimestral, também será necessário tornar o IPCA trimestral $\\pi_{\\Delta t}$. Como o IPCA é um dado mensal $\\pi_t$, podemos obte-lô de forma trimestral a partir da seguinte equação\n",
    "\n",
    "$$\n",
    "\\pi_{\\Delta t} = (1+\\pi_t)\\cdot(1+\\pi_{t-1})\\cdot(1+\\pi_{t-2}) - 1\n",
    "$$"
   ]
  },
  {
   "cell_type": "code",
   "execution_count": 10,
   "metadata": {},
   "outputs": [],
   "source": [
    "ipca['IPCA_trimestral'] = (1+ipca['valor'])*(1+ipca['valor_{t-1}'])*(1+ipca['valor_{t-2}']) - 1"
   ]
  },
  {
   "cell_type": "code",
   "execution_count": 11,
   "metadata": {},
   "outputs": [],
   "source": [
    "ipca = ipca.loc[quarters]"
   ]
  },
  {
   "cell_type": "code",
   "execution_count": 12,
   "metadata": {},
   "outputs": [
    {
     "data": {
      "text/html": [
       "<div>\n",
       "<style scoped>\n",
       "    .dataframe tbody tr th:only-of-type {\n",
       "        vertical-align: middle;\n",
       "    }\n",
       "\n",
       "    .dataframe tbody tr th {\n",
       "        vertical-align: top;\n",
       "    }\n",
       "\n",
       "    .dataframe thead th {\n",
       "        text-align: right;\n",
       "    }\n",
       "</style>\n",
       "<table border=\"1\" class=\"dataframe\">\n",
       "  <thead>\n",
       "    <tr style=\"text-align: right;\">\n",
       "      <th></th>\n",
       "      <th>valor</th>\n",
       "      <th>valor_{t-1}</th>\n",
       "      <th>valor_{t-2}</th>\n",
       "      <th>IPCA_trimestral</th>\n",
       "    </tr>\n",
       "  </thead>\n",
       "  <tbody>\n",
       "    <tr>\n",
       "      <th>2012-06-30</th>\n",
       "      <td>0.0008</td>\n",
       "      <td>NaN</td>\n",
       "      <td>NaN</td>\n",
       "      <td>NaN</td>\n",
       "    </tr>\n",
       "    <tr>\n",
       "      <th>2012-09-30</th>\n",
       "      <td>0.0057</td>\n",
       "      <td>0.0041</td>\n",
       "      <td>0.0043</td>\n",
       "      <td>0.014166</td>\n",
       "    </tr>\n",
       "    <tr>\n",
       "      <th>2012-12-31</th>\n",
       "      <td>0.0079</td>\n",
       "      <td>0.0060</td>\n",
       "      <td>0.0059</td>\n",
       "      <td>0.019930</td>\n",
       "    </tr>\n",
       "    <tr>\n",
       "      <th>2013-03-31</th>\n",
       "      <td>0.0047</td>\n",
       "      <td>0.0060</td>\n",
       "      <td>0.0086</td>\n",
       "      <td>0.019420</td>\n",
       "    </tr>\n",
       "    <tr>\n",
       "      <th>2013-06-30</th>\n",
       "      <td>0.0026</td>\n",
       "      <td>0.0037</td>\n",
       "      <td>0.0055</td>\n",
       "      <td>0.011844</td>\n",
       "    </tr>\n",
       "    <tr>\n",
       "      <th>2013-09-30</th>\n",
       "      <td>0.0035</td>\n",
       "      <td>0.0024</td>\n",
       "      <td>0.0003</td>\n",
       "      <td>0.006210</td>\n",
       "    </tr>\n",
       "    <tr>\n",
       "      <th>2013-12-31</th>\n",
       "      <td>0.0092</td>\n",
       "      <td>0.0054</td>\n",
       "      <td>0.0057</td>\n",
       "      <td>0.020433</td>\n",
       "    </tr>\n",
       "    <tr>\n",
       "      <th>2014-03-31</th>\n",
       "      <td>0.0092</td>\n",
       "      <td>0.0069</td>\n",
       "      <td>0.0055</td>\n",
       "      <td>0.021752</td>\n",
       "    </tr>\n",
       "    <tr>\n",
       "      <th>2014-06-30</th>\n",
       "      <td>0.0040</td>\n",
       "      <td>0.0046</td>\n",
       "      <td>0.0067</td>\n",
       "      <td>0.015376</td>\n",
       "    </tr>\n",
       "    <tr>\n",
       "      <th>2014-09-30</th>\n",
       "      <td>0.0057</td>\n",
       "      <td>0.0025</td>\n",
       "      <td>0.0001</td>\n",
       "      <td>0.008315</td>\n",
       "    </tr>\n",
       "  </tbody>\n",
       "</table>\n",
       "</div>"
      ],
      "text/plain": [
       "             valor  valor_{t-1}  valor_{t-2}  IPCA_trimestral\n",
       "2012-06-30  0.0008          NaN          NaN              NaN\n",
       "2012-09-30  0.0057       0.0041       0.0043         0.014166\n",
       "2012-12-31  0.0079       0.0060       0.0059         0.019930\n",
       "2013-03-31  0.0047       0.0060       0.0086         0.019420\n",
       "2013-06-30  0.0026       0.0037       0.0055         0.011844\n",
       "2013-09-30  0.0035       0.0024       0.0003         0.006210\n",
       "2013-12-31  0.0092       0.0054       0.0057         0.020433\n",
       "2014-03-31  0.0092       0.0069       0.0055         0.021752\n",
       "2014-06-30  0.0040       0.0046       0.0067         0.015376\n",
       "2014-09-30  0.0057       0.0025       0.0001         0.008315"
      ]
     },
     "execution_count": 12,
     "metadata": {},
     "output_type": "execute_result"
    }
   ],
   "source": [
    "ipca.head(10)"
   ]
  },
  {
   "cell_type": "markdown",
   "metadata": {},
   "source": [
    "Precisamos ainda, anualizar o IPCA\n",
    "\n",
    "$$\n",
    "\\pi_{\\Delta t}^{anualizado} = (1+\\pi_{\\Delta t})^4 - 1\n",
    "$$"
   ]
  },
  {
   "cell_type": "code",
   "execution_count": 13,
   "metadata": {},
   "outputs": [],
   "source": [
    "ipca['IPCA_a'] = (1+ipca['IPCA_trimestral'])**4 - 1"
   ]
  },
  {
   "cell_type": "code",
   "execution_count": 14,
   "metadata": {},
   "outputs": [
    {
     "data": {
      "text/html": [
       "<div>\n",
       "<style scoped>\n",
       "    .dataframe tbody tr th:only-of-type {\n",
       "        vertical-align: middle;\n",
       "    }\n",
       "\n",
       "    .dataframe tbody tr th {\n",
       "        vertical-align: top;\n",
       "    }\n",
       "\n",
       "    .dataframe thead th {\n",
       "        text-align: right;\n",
       "    }\n",
       "</style>\n",
       "<table border=\"1\" class=\"dataframe\">\n",
       "  <thead>\n",
       "    <tr style=\"text-align: right;\">\n",
       "      <th></th>\n",
       "      <th>valor</th>\n",
       "      <th>valor_{t-1}</th>\n",
       "      <th>valor_{t-2}</th>\n",
       "      <th>IPCA_trimestral</th>\n",
       "      <th>IPCA_a</th>\n",
       "    </tr>\n",
       "  </thead>\n",
       "  <tbody>\n",
       "    <tr>\n",
       "      <th>2012-06-30</th>\n",
       "      <td>0.0008</td>\n",
       "      <td>NaN</td>\n",
       "      <td>NaN</td>\n",
       "      <td>NaN</td>\n",
       "      <td>NaN</td>\n",
       "    </tr>\n",
       "    <tr>\n",
       "      <th>2012-09-30</th>\n",
       "      <td>0.0057</td>\n",
       "      <td>0.0041</td>\n",
       "      <td>0.0043</td>\n",
       "      <td>0.014166</td>\n",
       "      <td>0.057878</td>\n",
       "    </tr>\n",
       "    <tr>\n",
       "      <th>2012-12-31</th>\n",
       "      <td>0.0079</td>\n",
       "      <td>0.0060</td>\n",
       "      <td>0.0059</td>\n",
       "      <td>0.019930</td>\n",
       "      <td>0.082134</td>\n",
       "    </tr>\n",
       "    <tr>\n",
       "      <th>2013-03-31</th>\n",
       "      <td>0.0047</td>\n",
       "      <td>0.0060</td>\n",
       "      <td>0.0086</td>\n",
       "      <td>0.019420</td>\n",
       "      <td>0.079974</td>\n",
       "    </tr>\n",
       "    <tr>\n",
       "      <th>2013-06-30</th>\n",
       "      <td>0.0026</td>\n",
       "      <td>0.0037</td>\n",
       "      <td>0.0055</td>\n",
       "      <td>0.011844</td>\n",
       "      <td>0.048226</td>\n",
       "    </tr>\n",
       "    <tr>\n",
       "      <th>2013-09-30</th>\n",
       "      <td>0.0035</td>\n",
       "      <td>0.0024</td>\n",
       "      <td>0.0003</td>\n",
       "      <td>0.006210</td>\n",
       "      <td>0.025073</td>\n",
       "    </tr>\n",
       "    <tr>\n",
       "      <th>2013-12-31</th>\n",
       "      <td>0.0092</td>\n",
       "      <td>0.0054</td>\n",
       "      <td>0.0057</td>\n",
       "      <td>0.020433</td>\n",
       "      <td>0.084272</td>\n",
       "    </tr>\n",
       "    <tr>\n",
       "      <th>2014-03-31</th>\n",
       "      <td>0.0092</td>\n",
       "      <td>0.0069</td>\n",
       "      <td>0.0055</td>\n",
       "      <td>0.021752</td>\n",
       "      <td>0.089890</td>\n",
       "    </tr>\n",
       "    <tr>\n",
       "      <th>2014-06-30</th>\n",
       "      <td>0.0040</td>\n",
       "      <td>0.0046</td>\n",
       "      <td>0.0067</td>\n",
       "      <td>0.015376</td>\n",
       "      <td>0.062938</td>\n",
       "    </tr>\n",
       "    <tr>\n",
       "      <th>2014-09-30</th>\n",
       "      <td>0.0057</td>\n",
       "      <td>0.0025</td>\n",
       "      <td>0.0001</td>\n",
       "      <td>0.008315</td>\n",
       "      <td>0.033677</td>\n",
       "    </tr>\n",
       "  </tbody>\n",
       "</table>\n",
       "</div>"
      ],
      "text/plain": [
       "             valor  valor_{t-1}  valor_{t-2}  IPCA_trimestral    IPCA_a\n",
       "2012-06-30  0.0008          NaN          NaN              NaN       NaN\n",
       "2012-09-30  0.0057       0.0041       0.0043         0.014166  0.057878\n",
       "2012-12-31  0.0079       0.0060       0.0059         0.019930  0.082134\n",
       "2013-03-31  0.0047       0.0060       0.0086         0.019420  0.079974\n",
       "2013-06-30  0.0026       0.0037       0.0055         0.011844  0.048226\n",
       "2013-09-30  0.0035       0.0024       0.0003         0.006210  0.025073\n",
       "2013-12-31  0.0092       0.0054       0.0057         0.020433  0.084272\n",
       "2014-03-31  0.0092       0.0069       0.0055         0.021752  0.089890\n",
       "2014-06-30  0.0040       0.0046       0.0067         0.015376  0.062938\n",
       "2014-09-30  0.0057       0.0025       0.0001         0.008315  0.033677"
      ]
     },
     "execution_count": 14,
     "metadata": {},
     "output_type": "execute_result"
    }
   ],
   "source": [
    "ipca.head(10)"
   ]
  },
  {
   "cell_type": "markdown",
   "metadata": {},
   "source": [
    "### Ibovespa"
   ]
  },
  {
   "cell_type": "code",
   "execution_count": 15,
   "metadata": {},
   "outputs": [],
   "source": [
    "ibov = web.get_data_yahoo('^BVSP', start = \"2000-01-01\")\n",
    "ibov = pd.DataFrame(data = ibov['Adj Close'], index = days)\n",
    "ibov = ibov.rename(columns={'Adj Close': 'IBOV'})"
   ]
  },
  {
   "cell_type": "code",
   "execution_count": 16,
   "metadata": {},
   "outputs": [],
   "source": [
    "normalize_nan(ibov)"
   ]
  },
  {
   "cell_type": "code",
   "execution_count": 17,
   "metadata": {},
   "outputs": [],
   "source": [
    "# visualização melhor de gráficos\n",
    "sns.set(rc={'figure.figsize':(12,8)});"
   ]
  },
  {
   "cell_type": "code",
   "execution_count": 18,
   "metadata": {},
   "outputs": [
    {
     "data": {
      "image/png": "[encoded data removed]",
      "text/plain": [
       "<Figure size 864x576 with 1 Axes>"
      ]
     },
     "metadata": {},
     "output_type": "display_data"
    }
   ],
   "source": [
    "# Série do Ibovespa graficamente\n",
    "plt.plot(ibov['IBOV'], label = 'Ibovespa', linewidth =.7)\n",
    "plt.xlabel(\"Ano\")\n",
    "plt.ylabel(\"Pontos\")\n",
    "plt.xticks(fontname = \"Arial\")\n",
    "plt.legend()\n",
    "plt.show()"
   ]
  },
  {
   "cell_type": "code",
   "execution_count": 19,
   "metadata": {},
   "outputs": [],
   "source": [
    "# vai retornar o dataframe do ibovespa com valores trimestrais apenas\n",
    "ibov = ibov.loc[quarters]"
   ]
  },
  {
   "cell_type": "markdown",
   "metadata": {},
   "source": [
    "Os retornos trimestrais anualizados do Ibovespa podem ser obtidos através da seguinte equação\n",
    "\n",
    "$$\n",
    "r_t^e = \\frac{P_{t} - P_{t-1}}{P_{t-1}}\n",
    "$$\n",
    "\n",
    "$$\n",
    "r_e^{anualizado} = \\left(1+ r_t^e\\right)^4-1\n",
    "$$"
   ]
  },
  {
   "cell_type": "code",
   "execution_count": 20,
   "metadata": {},
   "outputs": [],
   "source": [
    "ibov['IBOV_{t-1}'] = ibov['IBOV'].shift(1)"
   ]
  },
  {
   "cell_type": "code",
   "execution_count": 21,
   "metadata": {},
   "outputs": [],
   "source": [
    "ibov['re'] = (1 + ((ibov['IBOV'] - ibov['IBOV_{t-1}'])/ibov['IBOV_{t-1}']))**4 - 1"
   ]
  },
  {
   "cell_type": "code",
   "execution_count": 22,
   "metadata": {},
   "outputs": [
    {
     "data": {
      "text/html": [
       "<div>\n",
       "<style scoped>\n",
       "    .dataframe tbody tr th:only-of-type {\n",
       "        vertical-align: middle;\n",
       "    }\n",
       "\n",
       "    .dataframe tbody tr th {\n",
       "        vertical-align: top;\n",
       "    }\n",
       "\n",
       "    .dataframe thead th {\n",
       "        text-align: right;\n",
       "    }\n",
       "</style>\n",
       "<table border=\"1\" class=\"dataframe\">\n",
       "  <thead>\n",
       "    <tr style=\"text-align: right;\">\n",
       "      <th></th>\n",
       "      <th>IBOV</th>\n",
       "      <th>IBOV_{t-1}</th>\n",
       "      <th>re</th>\n",
       "    </tr>\n",
       "  </thead>\n",
       "  <tbody>\n",
       "    <tr>\n",
       "      <th>2012-06-30</th>\n",
       "      <td>54355.0</td>\n",
       "      <td>NaN</td>\n",
       "      <td>NaN</td>\n",
       "    </tr>\n",
       "    <tr>\n",
       "      <th>2012-09-30</th>\n",
       "      <td>59176.0</td>\n",
       "      <td>54355.0</td>\n",
       "      <td>0.404832</td>\n",
       "    </tr>\n",
       "    <tr>\n",
       "      <th>2012-12-31</th>\n",
       "      <td>60952.0</td>\n",
       "      <td>59176.0</td>\n",
       "      <td>0.125562</td>\n",
       "    </tr>\n",
       "    <tr>\n",
       "      <th>2013-03-31</th>\n",
       "      <td>56352.0</td>\n",
       "      <td>60952.0</td>\n",
       "      <td>-0.269390</td>\n",
       "    </tr>\n",
       "    <tr>\n",
       "      <th>2013-06-30</th>\n",
       "      <td>47457.0</td>\n",
       "      <td>56352.0</td>\n",
       "      <td>-0.497005</td>\n",
       "    </tr>\n",
       "    <tr>\n",
       "      <th>2013-09-30</th>\n",
       "      <td>52338.0</td>\n",
       "      <td>47457.0</td>\n",
       "      <td>0.479338</td>\n",
       "    </tr>\n",
       "    <tr>\n",
       "      <th>2013-12-31</th>\n",
       "      <td>51507.0</td>\n",
       "      <td>52338.0</td>\n",
       "      <td>-0.062014</td>\n",
       "    </tr>\n",
       "    <tr>\n",
       "      <th>2014-03-31</th>\n",
       "      <td>50415.0</td>\n",
       "      <td>51507.0</td>\n",
       "      <td>-0.082145</td>\n",
       "    </tr>\n",
       "    <tr>\n",
       "      <th>2014-06-30</th>\n",
       "      <td>53168.0</td>\n",
       "      <td>50415.0</td>\n",
       "      <td>0.236979</td>\n",
       "    </tr>\n",
       "    <tr>\n",
       "      <th>2014-09-30</th>\n",
       "      <td>54116.0</td>\n",
       "      <td>53168.0</td>\n",
       "      <td>0.073251</td>\n",
       "    </tr>\n",
       "  </tbody>\n",
       "</table>\n",
       "</div>"
      ],
      "text/plain": [
       "               IBOV  IBOV_{t-1}        re\n",
       "2012-06-30  54355.0         NaN       NaN\n",
       "2012-09-30  59176.0     54355.0  0.404832\n",
       "2012-12-31  60952.0     59176.0  0.125562\n",
       "2013-03-31  56352.0     60952.0 -0.269390\n",
       "2013-06-30  47457.0     56352.0 -0.497005\n",
       "2013-09-30  52338.0     47457.0  0.479338\n",
       "2013-12-31  51507.0     52338.0 -0.062014\n",
       "2014-03-31  50415.0     51507.0 -0.082145\n",
       "2014-06-30  53168.0     50415.0  0.236979\n",
       "2014-09-30  54116.0     53168.0  0.073251"
      ]
     },
     "execution_count": 22,
     "metadata": {},
     "output_type": "execute_result"
    }
   ],
   "source": [
    "ibov.head(10)"
   ]
  },
  {
   "cell_type": "code",
   "execution_count": 23,
   "metadata": {},
   "outputs": [],
   "source": [
    "ibov['IPCA'] = ipca['IPCA_a']"
   ]
  },
  {
   "cell_type": "markdown",
   "metadata": {},
   "source": [
    "Para obtermos a rentabilidade da equity em termos reais temos que\n",
    "\n",
    "$$\n",
    "r_e^{\\$} = \\frac{1+r_e}{1+\\pi} - 1\n",
    "$$"
   ]
  },
  {
   "cell_type": "code",
   "execution_count": 24,
   "metadata": {},
   "outputs": [],
   "source": [
    "ibov['re_real'] = ((1+ibov['re'])/(1+ibov['IPCA'])) - 1"
   ]
  },
  {
   "cell_type": "code",
   "execution_count": 25,
   "metadata": {},
   "outputs": [],
   "source": [
    "ibov = ibov[:-1]"
   ]
  },
  {
   "cell_type": "code",
   "execution_count": 26,
   "metadata": {},
   "outputs": [
    {
     "data": {
      "text/html": [
       "<div>\n",
       "<style scoped>\n",
       "    .dataframe tbody tr th:only-of-type {\n",
       "        vertical-align: middle;\n",
       "    }\n",
       "\n",
       "    .dataframe tbody tr th {\n",
       "        vertical-align: top;\n",
       "    }\n",
       "\n",
       "    .dataframe thead th {\n",
       "        text-align: right;\n",
       "    }\n",
       "</style>\n",
       "<table border=\"1\" class=\"dataframe\">\n",
       "  <thead>\n",
       "    <tr style=\"text-align: right;\">\n",
       "      <th></th>\n",
       "      <th>IBOV</th>\n",
       "      <th>IBOV_{t-1}</th>\n",
       "      <th>re</th>\n",
       "      <th>IPCA</th>\n",
       "      <th>re_real</th>\n",
       "    </tr>\n",
       "  </thead>\n",
       "  <tbody>\n",
       "    <tr>\n",
       "      <th>2012-06-30</th>\n",
       "      <td>54355.0</td>\n",
       "      <td>NaN</td>\n",
       "      <td>NaN</td>\n",
       "      <td>NaN</td>\n",
       "      <td>NaN</td>\n",
       "    </tr>\n",
       "    <tr>\n",
       "      <th>2012-09-30</th>\n",
       "      <td>59176.0</td>\n",
       "      <td>54355.0</td>\n",
       "      <td>0.404832</td>\n",
       "      <td>0.057878</td>\n",
       "      <td>0.327972</td>\n",
       "    </tr>\n",
       "    <tr>\n",
       "      <th>2012-12-31</th>\n",
       "      <td>60952.0</td>\n",
       "      <td>59176.0</td>\n",
       "      <td>0.125562</td>\n",
       "      <td>0.082134</td>\n",
       "      <td>0.040132</td>\n",
       "    </tr>\n",
       "    <tr>\n",
       "      <th>2013-03-31</th>\n",
       "      <td>56352.0</td>\n",
       "      <td>60952.0</td>\n",
       "      <td>-0.269390</td>\n",
       "      <td>0.079974</td>\n",
       "      <td>-0.323493</td>\n",
       "    </tr>\n",
       "    <tr>\n",
       "      <th>2013-06-30</th>\n",
       "      <td>47457.0</td>\n",
       "      <td>56352.0</td>\n",
       "      <td>-0.497005</td>\n",
       "      <td>0.048226</td>\n",
       "      <td>-0.520146</td>\n",
       "    </tr>\n",
       "    <tr>\n",
       "      <th>2013-09-30</th>\n",
       "      <td>52338.0</td>\n",
       "      <td>47457.0</td>\n",
       "      <td>0.479338</td>\n",
       "      <td>0.025073</td>\n",
       "      <td>0.443154</td>\n",
       "    </tr>\n",
       "    <tr>\n",
       "      <th>2013-12-31</th>\n",
       "      <td>51507.0</td>\n",
       "      <td>52338.0</td>\n",
       "      <td>-0.062014</td>\n",
       "      <td>0.084272</td>\n",
       "      <td>-0.134916</td>\n",
       "    </tr>\n",
       "    <tr>\n",
       "      <th>2014-03-31</th>\n",
       "      <td>50415.0</td>\n",
       "      <td>51507.0</td>\n",
       "      <td>-0.082145</td>\n",
       "      <td>0.089890</td>\n",
       "      <td>-0.157846</td>\n",
       "    </tr>\n",
       "    <tr>\n",
       "      <th>2014-06-30</th>\n",
       "      <td>53168.0</td>\n",
       "      <td>50415.0</td>\n",
       "      <td>0.236979</td>\n",
       "      <td>0.062938</td>\n",
       "      <td>0.163736</td>\n",
       "    </tr>\n",
       "    <tr>\n",
       "      <th>2014-09-30</th>\n",
       "      <td>54116.0</td>\n",
       "      <td>53168.0</td>\n",
       "      <td>0.073251</td>\n",
       "      <td>0.033677</td>\n",
       "      <td>0.038285</td>\n",
       "    </tr>\n",
       "  </tbody>\n",
       "</table>\n",
       "</div>"
      ],
      "text/plain": [
       "               IBOV  IBOV_{t-1}        re      IPCA   re_real\n",
       "2012-06-30  54355.0         NaN       NaN       NaN       NaN\n",
       "2012-09-30  59176.0     54355.0  0.404832  0.057878  0.327972\n",
       "2012-12-31  60952.0     59176.0  0.125562  0.082134  0.040132\n",
       "2013-03-31  56352.0     60952.0 -0.269390  0.079974 -0.323493\n",
       "2013-06-30  47457.0     56352.0 -0.497005  0.048226 -0.520146\n",
       "2013-09-30  52338.0     47457.0  0.479338  0.025073  0.443154\n",
       "2013-12-31  51507.0     52338.0 -0.062014  0.084272 -0.134916\n",
       "2014-03-31  50415.0     51507.0 -0.082145  0.089890 -0.157846\n",
       "2014-06-30  53168.0     50415.0  0.236979  0.062938  0.163736\n",
       "2014-09-30  54116.0     53168.0  0.073251  0.033677  0.038285"
      ]
     },
     "execution_count": 26,
     "metadata": {},
     "output_type": "execute_result"
    }
   ],
   "source": [
    "ibov.head(10)"
   ]
  },
  {
   "cell_type": "markdown",
   "metadata": {},
   "source": [
    "### Futuro DI com um mês"
   ]
  },
  {
   "cell_type": "code",
   "execution_count": 27,
   "metadata": {},
   "outputs": [],
   "source": [
    "futurodi = pd.read_csv('futuroDI.csv', sep=',', index_col=0)"
   ]
  },
  {
   "cell_type": "code",
   "execution_count": 28,
   "metadata": {},
   "outputs": [],
   "source": [
    "# função que torna o índice um objeto de data\n",
    "futurodi.index = pd.to_datetime(futurodi.index)"
   ]
  },
  {
   "cell_type": "code",
   "execution_count": 29,
   "metadata": {},
   "outputs": [],
   "source": [
    "# normalizando os dados que estavam em taxas para números decimais\n",
    "futurodi = futurodi/100"
   ]
  },
  {
   "cell_type": "code",
   "execution_count": 30,
   "metadata": {},
   "outputs": [],
   "source": [
    "futurodi = futurodi[['BRPRE1M=BMF']]"
   ]
  },
  {
   "cell_type": "code",
   "execution_count": 31,
   "metadata": {},
   "outputs": [],
   "source": [
    "futurodi = futurodi.rename(columns={'BRPRE1M=BMF':'rf'})"
   ]
  },
  {
   "cell_type": "code",
   "execution_count": 32,
   "metadata": {},
   "outputs": [
    {
     "data": {
      "image/png": "[encoded data removed]",
      "text/plain": [
       "<Figure size 864x576 with 1 Axes>"
      ]
     },
     "metadata": {},
     "output_type": "display_data"
    }
   ],
   "source": [
    "# Série do futuro DI graficamente\n",
    "plt.plot(futurodi['rf'], label = 'Futuro DI 1 mês', linewidth =.7)\n",
    "plt.xlabel(\"Ano\")\n",
    "plt.ylabel(\"Futuro DI 1 mês\")\n",
    "plt.xticks(fontname = \"Arial\")\n",
    "plt.legend()\n",
    "plt.show()"
   ]
  },
  {
   "cell_type": "code",
   "execution_count": 33,
   "metadata": {},
   "outputs": [],
   "source": [
    "futurodi = futurodi[::-1]"
   ]
  },
  {
   "cell_type": "code",
   "execution_count": 34,
   "metadata": {},
   "outputs": [],
   "source": [
    "futurodi = futurodi.loc[quarters]"
   ]
  },
  {
   "cell_type": "code",
   "execution_count": 35,
   "metadata": {},
   "outputs": [
    {
     "data": {
      "text/html": [
       "<div>\n",
       "<style scoped>\n",
       "    .dataframe tbody tr th:only-of-type {\n",
       "        vertical-align: middle;\n",
       "    }\n",
       "\n",
       "    .dataframe tbody tr th {\n",
       "        vertical-align: top;\n",
       "    }\n",
       "\n",
       "    .dataframe thead th {\n",
       "        text-align: right;\n",
       "    }\n",
       "</style>\n",
       "<table border=\"1\" class=\"dataframe\">\n",
       "  <thead>\n",
       "    <tr style=\"text-align: right;\">\n",
       "      <th></th>\n",
       "      <th>rf</th>\n",
       "    </tr>\n",
       "  </thead>\n",
       "  <tbody>\n",
       "    <tr>\n",
       "      <th>2012-06-30</th>\n",
       "      <td>0.08089</td>\n",
       "    </tr>\n",
       "    <tr>\n",
       "      <th>2012-09-30</th>\n",
       "      <td>0.07293</td>\n",
       "    </tr>\n",
       "    <tr>\n",
       "      <th>2012-12-31</th>\n",
       "      <td>0.06974</td>\n",
       "    </tr>\n",
       "    <tr>\n",
       "      <th>2013-03-31</th>\n",
       "      <td>0.07021</td>\n",
       "    </tr>\n",
       "    <tr>\n",
       "      <th>2013-06-30</th>\n",
       "      <td>0.08104</td>\n",
       "    </tr>\n",
       "    <tr>\n",
       "      <th>2013-09-30</th>\n",
       "      <td>0.09118</td>\n",
       "    </tr>\n",
       "    <tr>\n",
       "      <th>2013-12-31</th>\n",
       "      <td>0.09957</td>\n",
       "    </tr>\n",
       "    <tr>\n",
       "      <th>2014-03-31</th>\n",
       "      <td>0.10743</td>\n",
       "    </tr>\n",
       "    <tr>\n",
       "      <th>2014-06-30</th>\n",
       "      <td>0.10814</td>\n",
       "    </tr>\n",
       "    <tr>\n",
       "      <th>2014-09-30</th>\n",
       "      <td>0.10835</td>\n",
       "    </tr>\n",
       "  </tbody>\n",
       "</table>\n",
       "</div>"
      ],
      "text/plain": [
       "                 rf\n",
       "2012-06-30  0.08089\n",
       "2012-09-30  0.07293\n",
       "2012-12-31  0.06974\n",
       "2013-03-31  0.07021\n",
       "2013-06-30  0.08104\n",
       "2013-09-30  0.09118\n",
       "2013-12-31  0.09957\n",
       "2014-03-31  0.10743\n",
       "2014-06-30  0.10814\n",
       "2014-09-30  0.10835"
      ]
     },
     "execution_count": 35,
     "metadata": {},
     "output_type": "execute_result"
    }
   ],
   "source": [
    "futurodi.head(10)"
   ]
  },
  {
   "cell_type": "code",
   "execution_count": 36,
   "metadata": {},
   "outputs": [],
   "source": [
    "futurodi['IPCA'] = ipca['IPCA_a']"
   ]
  },
  {
   "cell_type": "markdown",
   "metadata": {},
   "source": [
    "Da mesma forma para o short-term interest rate, para obtermos a rentabilidade em termos reais temos que\n",
    "\n",
    "$$\n",
    "r_f^{\\$} = \\frac{1+r_f}{1+\\pi} - 1\n",
    "$$"
   ]
  },
  {
   "cell_type": "code",
   "execution_count": 37,
   "metadata": {},
   "outputs": [],
   "source": [
    "futurodi['rf_real'] = ((1+futurodi['rf'])/(1+futurodi['IPCA'])) - 1"
   ]
  },
  {
   "cell_type": "code",
   "execution_count": 38,
   "metadata": {},
   "outputs": [],
   "source": [
    "futurodi = futurodi[:-1]"
   ]
  },
  {
   "cell_type": "code",
   "execution_count": 39,
   "metadata": {},
   "outputs": [
    {
     "data": {
      "text/html": [
       "<div>\n",
       "<style scoped>\n",
       "    .dataframe tbody tr th:only-of-type {\n",
       "        vertical-align: middle;\n",
       "    }\n",
       "\n",
       "    .dataframe tbody tr th {\n",
       "        vertical-align: top;\n",
       "    }\n",
       "\n",
       "    .dataframe thead th {\n",
       "        text-align: right;\n",
       "    }\n",
       "</style>\n",
       "<table border=\"1\" class=\"dataframe\">\n",
       "  <thead>\n",
       "    <tr style=\"text-align: right;\">\n",
       "      <th></th>\n",
       "      <th>rf</th>\n",
       "      <th>IPCA</th>\n",
       "      <th>rf_real</th>\n",
       "    </tr>\n",
       "  </thead>\n",
       "  <tbody>\n",
       "    <tr>\n",
       "      <th>2012-06-30</th>\n",
       "      <td>0.08089</td>\n",
       "      <td>NaN</td>\n",
       "      <td>NaN</td>\n",
       "    </tr>\n",
       "    <tr>\n",
       "      <th>2012-09-30</th>\n",
       "      <td>0.07293</td>\n",
       "      <td>0.057878</td>\n",
       "      <td>0.014229</td>\n",
       "    </tr>\n",
       "    <tr>\n",
       "      <th>2012-12-31</th>\n",
       "      <td>0.06974</td>\n",
       "      <td>0.082134</td>\n",
       "      <td>-0.011453</td>\n",
       "    </tr>\n",
       "    <tr>\n",
       "      <th>2013-03-31</th>\n",
       "      <td>0.07021</td>\n",
       "      <td>0.079974</td>\n",
       "      <td>-0.009041</td>\n",
       "    </tr>\n",
       "    <tr>\n",
       "      <th>2013-06-30</th>\n",
       "      <td>0.08104</td>\n",
       "      <td>0.048226</td>\n",
       "      <td>0.031305</td>\n",
       "    </tr>\n",
       "    <tr>\n",
       "      <th>2013-09-30</th>\n",
       "      <td>0.09118</td>\n",
       "      <td>0.025073</td>\n",
       "      <td>0.064490</td>\n",
       "    </tr>\n",
       "    <tr>\n",
       "      <th>2013-12-31</th>\n",
       "      <td>0.09957</td>\n",
       "      <td>0.084272</td>\n",
       "      <td>0.014109</td>\n",
       "    </tr>\n",
       "    <tr>\n",
       "      <th>2014-03-31</th>\n",
       "      <td>0.10743</td>\n",
       "      <td>0.089890</td>\n",
       "      <td>0.016093</td>\n",
       "    </tr>\n",
       "    <tr>\n",
       "      <th>2014-06-30</th>\n",
       "      <td>0.10814</td>\n",
       "      <td>0.062938</td>\n",
       "      <td>0.042526</td>\n",
       "    </tr>\n",
       "    <tr>\n",
       "      <th>2014-09-30</th>\n",
       "      <td>0.10835</td>\n",
       "      <td>0.033677</td>\n",
       "      <td>0.072240</td>\n",
       "    </tr>\n",
       "  </tbody>\n",
       "</table>\n",
       "</div>"
      ],
      "text/plain": [
       "                 rf      IPCA   rf_real\n",
       "2012-06-30  0.08089       NaN       NaN\n",
       "2012-09-30  0.07293  0.057878  0.014229\n",
       "2012-12-31  0.06974  0.082134 -0.011453\n",
       "2013-03-31  0.07021  0.079974 -0.009041\n",
       "2013-06-30  0.08104  0.048226  0.031305\n",
       "2013-09-30  0.09118  0.025073  0.064490\n",
       "2013-12-31  0.09957  0.084272  0.014109\n",
       "2014-03-31  0.10743  0.089890  0.016093\n",
       "2014-06-30  0.10814  0.062938  0.042526\n",
       "2014-09-30  0.10835  0.033677  0.072240"
      ]
     },
     "execution_count": 39,
     "metadata": {},
     "output_type": "execute_result"
    }
   ],
   "source": [
    "futurodi.head(10)"
   ]
  },
  {
   "cell_type": "markdown",
   "metadata": {},
   "source": [
    "### Consumo Real per capita Desazonalizado"
   ]
  },
  {
   "cell_type": "code",
   "execution_count": 40,
   "metadata": {},
   "outputs": [],
   "source": [
    "consumo = pd.read_csv('real_consumption_seasonally_adjusted.csv', sep=',', index_col=0)\n",
    "pop = pd.read_csv('population.csv', sep=',', index_col=0)"
   ]
  },
  {
   "cell_type": "code",
   "execution_count": 41,
   "metadata": {},
   "outputs": [],
   "source": [
    "# função que torna o índice um objeto de data\n",
    "consumo.index = pd.to_datetime(consumo.index)\n",
    "pop.index = pd.to_datetime(pop.index)"
   ]
  },
  {
   "cell_type": "code",
   "execution_count": 42,
   "metadata": {},
   "outputs": [
    {
     "data": {
      "image/png": "[encoded data removed]",
      "text/plain": [
       "<Figure size 864x576 with 1 Axes>"
      ]
     },
     "metadata": {},
     "output_type": "display_data"
    }
   ],
   "source": [
    "# Série do Consumo graficamente\n",
    "plt.plot(consumo['NAEXKP02BRQ189S'], label = 'Consumo', linewidth =.7)\n",
    "plt.xlabel(\"Ano\")\n",
    "plt.ylabel(\"Consumo Real\")\n",
    "plt.xticks(fontname = \"Arial\")\n",
    "plt.legend()\n",
    "plt.show()"
   ]
  },
  {
   "cell_type": "code",
   "execution_count": 43,
   "metadata": {},
   "outputs": [],
   "source": [
    "quarters_ = consumo.index"
   ]
  },
  {
   "cell_type": "code",
   "execution_count": 44,
   "metadata": {},
   "outputs": [],
   "source": [
    "pop = pd.DataFrame(pop, index = quarters_)"
   ]
  },
  {
   "cell_type": "code",
   "execution_count": 45,
   "metadata": {},
   "outputs": [
    {
     "data": {
      "text/html": [
       "<div>\n",
       "<style scoped>\n",
       "    .dataframe tbody tr th:only-of-type {\n",
       "        vertical-align: middle;\n",
       "    }\n",
       "\n",
       "    .dataframe tbody tr th {\n",
       "        vertical-align: top;\n",
       "    }\n",
       "\n",
       "    .dataframe thead th {\n",
       "        text-align: right;\n",
       "    }\n",
       "</style>\n",
       "<table border=\"1\" class=\"dataframe\">\n",
       "  <thead>\n",
       "    <tr style=\"text-align: right;\">\n",
       "      <th></th>\n",
       "      <th>POPTOTBRA647NWDB</th>\n",
       "    </tr>\n",
       "    <tr>\n",
       "      <th>DATE</th>\n",
       "      <th></th>\n",
       "    </tr>\n",
       "  </thead>\n",
       "  <tbody>\n",
       "    <tr>\n",
       "      <th>2012-01-01</th>\n",
       "      <td>199287292.0</td>\n",
       "    </tr>\n",
       "    <tr>\n",
       "      <th>2012-04-01</th>\n",
       "      <td>NaN</td>\n",
       "    </tr>\n",
       "    <tr>\n",
       "      <th>2012-07-01</th>\n",
       "      <td>NaN</td>\n",
       "    </tr>\n",
       "    <tr>\n",
       "      <th>2012-10-01</th>\n",
       "      <td>NaN</td>\n",
       "    </tr>\n",
       "    <tr>\n",
       "      <th>2013-01-01</th>\n",
       "      <td>201035904.0</td>\n",
       "    </tr>\n",
       "    <tr>\n",
       "      <th>2013-04-01</th>\n",
       "      <td>NaN</td>\n",
       "    </tr>\n",
       "    <tr>\n",
       "      <th>2013-07-01</th>\n",
       "      <td>NaN</td>\n",
       "    </tr>\n",
       "    <tr>\n",
       "      <th>2013-10-01</th>\n",
       "      <td>NaN</td>\n",
       "    </tr>\n",
       "    <tr>\n",
       "      <th>2014-01-01</th>\n",
       "      <td>202763744.0</td>\n",
       "    </tr>\n",
       "    <tr>\n",
       "      <th>2014-04-01</th>\n",
       "      <td>NaN</td>\n",
       "    </tr>\n",
       "  </tbody>\n",
       "</table>\n",
       "</div>"
      ],
      "text/plain": [
       "            POPTOTBRA647NWDB\n",
       "DATE                        \n",
       "2012-01-01       199287292.0\n",
       "2012-04-01               NaN\n",
       "2012-07-01               NaN\n",
       "2012-10-01               NaN\n",
       "2013-01-01       201035904.0\n",
       "2013-04-01               NaN\n",
       "2013-07-01               NaN\n",
       "2013-10-01               NaN\n",
       "2014-01-01       202763744.0\n",
       "2014-04-01               NaN"
      ]
     },
     "execution_count": 45,
     "metadata": {},
     "output_type": "execute_result"
    }
   ],
   "source": [
    "pop.head(10)"
   ]
  },
  {
   "cell_type": "markdown",
   "metadata": {},
   "source": [
    "Como os dados de população são ofertados apenas com periodicidade anual, vamos supor que o crescimento trimestral $\\Delta L_t / L_t$ foi uniforme, isto é, mesma taxa de crescimento entre os trimestres:\n",
    "\n",
    "$$\n",
    "\\frac{\\Delta L_{t}}{L_t} = \\left(1+\\frac{\\Delta L_{4t}}{L_{4t}}\\right)^{\\frac{1}{4}} - 1\n",
    "$$"
   ]
  },
  {
   "cell_type": "markdown",
   "metadata": {},
   "source": [
    "onde \n",
    "\n",
    "$$\n",
    "\\frac{\\Delta L_{4t}}{L_{4t}}\n",
    "$$\n",
    "\n",
    "é a taxa de crescimento populacional anual."
   ]
  },
  {
   "cell_type": "markdown",
   "metadata": {},
   "source": [
    "Uma outra ressalva é que os dados populacionais vão até o primeiro trimestre de 2021. Teremos então que a população estimada para os trimestres posteriores serão a partir da taxa de crescimento entre 2020 e 2021 e a população constatada em 2021."
   ]
  },
  {
   "cell_type": "code",
   "execution_count": 46,
   "metadata": {},
   "outputs": [],
   "source": [
    "pop['POP_{t-1}'] = pop['POPTOTBRA647NWDB'].shift(4)"
   ]
  },
  {
   "cell_type": "code",
   "execution_count": 47,
   "metadata": {},
   "outputs": [],
   "source": [
    "pop['taxa_anual'] = (pop['POPTOTBRA647NWDB'] - pop['POP_{t-1}'])/pop['POP_{t-1}']"
   ]
  },
  {
   "cell_type": "code",
   "execution_count": 48,
   "metadata": {},
   "outputs": [],
   "source": [
    "pop['taxa_trimestral'] = np.nan"
   ]
  },
  {
   "cell_type": "code",
   "execution_count": 49,
   "metadata": {},
   "outputs": [],
   "source": [
    "for i in range(len(pop)):\n",
    "    if math.isnan(pop['taxa_anual'][i]) == False:\n",
    "        pop['taxa_trimestral'][i-1] = (1 + pop['taxa_anual'][i])**(1/4) - 1        \n",
    "        pop['taxa_trimestral'][i-2] = (1 + pop['taxa_anual'][i])**(1/4) - 1\n",
    "        pop['taxa_trimestral'][i-3] = (1 + pop['taxa_anual'][i])**(1/4) - 1\n",
    "        pop['taxa_trimestral'][i-4] = (1 + pop['taxa_anual'][i])**(1/4) - 1\n",
    "    else:\n",
    "        continue"
   ]
  },
  {
   "cell_type": "code",
   "execution_count": 50,
   "metadata": {},
   "outputs": [],
   "source": [
    "normalize_nan(pop['taxa_trimestral'])"
   ]
  },
  {
   "cell_type": "code",
   "execution_count": 51,
   "metadata": {},
   "outputs": [],
   "source": [
    "pop['pop_estimada'] = np.nan"
   ]
  },
  {
   "cell_type": "code",
   "execution_count": 52,
   "metadata": {},
   "outputs": [],
   "source": [
    "for i in range(len(pop)):\n",
    "    if math.isnan(pop['POPTOTBRA647NWDB'][i]) == False:\n",
    "        pop['pop_estimada'][i] = pop['POPTOTBRA647NWDB'][i]\n",
    "    else:\n",
    "        pop['pop_estimada'][i] = pop['pop_estimada'][i-1]*(1+pop['taxa_trimestral'][i-1])"
   ]
  },
  {
   "cell_type": "code",
   "execution_count": 53,
   "metadata": {},
   "outputs": [
    {
     "data": {
      "text/html": [
       "<div>\n",
       "<style scoped>\n",
       "    .dataframe tbody tr th:only-of-type {\n",
       "        vertical-align: middle;\n",
       "    }\n",
       "\n",
       "    .dataframe tbody tr th {\n",
       "        vertical-align: top;\n",
       "    }\n",
       "\n",
       "    .dataframe thead th {\n",
       "        text-align: right;\n",
       "    }\n",
       "</style>\n",
       "<table border=\"1\" class=\"dataframe\">\n",
       "  <thead>\n",
       "    <tr style=\"text-align: right;\">\n",
       "      <th></th>\n",
       "      <th>POPTOTBRA647NWDB</th>\n",
       "      <th>POP_{t-1}</th>\n",
       "      <th>taxa_anual</th>\n",
       "      <th>taxa_trimestral</th>\n",
       "      <th>pop_estimada</th>\n",
       "    </tr>\n",
       "    <tr>\n",
       "      <th>DATE</th>\n",
       "      <th></th>\n",
       "      <th></th>\n",
       "      <th></th>\n",
       "      <th></th>\n",
       "      <th></th>\n",
       "    </tr>\n",
       "  </thead>\n",
       "  <tbody>\n",
       "    <tr>\n",
       "      <th>2012-01-01</th>\n",
       "      <td>199287292.0</td>\n",
       "      <td>NaN</td>\n",
       "      <td>NaN</td>\n",
       "      <td>0.002186</td>\n",
       "      <td>1.992873e+08</td>\n",
       "    </tr>\n",
       "    <tr>\n",
       "      <th>2012-04-01</th>\n",
       "      <td>NaN</td>\n",
       "      <td>NaN</td>\n",
       "      <td>NaN</td>\n",
       "      <td>0.002186</td>\n",
       "      <td>1.997230e+08</td>\n",
       "    </tr>\n",
       "    <tr>\n",
       "      <th>2012-07-01</th>\n",
       "      <td>NaN</td>\n",
       "      <td>NaN</td>\n",
       "      <td>NaN</td>\n",
       "      <td>0.002186</td>\n",
       "      <td>2.001597e+08</td>\n",
       "    </tr>\n",
       "    <tr>\n",
       "      <th>2012-10-01</th>\n",
       "      <td>NaN</td>\n",
       "      <td>NaN</td>\n",
       "      <td>NaN</td>\n",
       "      <td>0.002186</td>\n",
       "      <td>2.005973e+08</td>\n",
       "    </tr>\n",
       "    <tr>\n",
       "      <th>2013-01-01</th>\n",
       "      <td>201035904.0</td>\n",
       "      <td>199287292.0</td>\n",
       "      <td>0.008774</td>\n",
       "      <td>0.002142</td>\n",
       "      <td>2.010359e+08</td>\n",
       "    </tr>\n",
       "    <tr>\n",
       "      <th>2013-04-01</th>\n",
       "      <td>NaN</td>\n",
       "      <td>NaN</td>\n",
       "      <td>NaN</td>\n",
       "      <td>0.002142</td>\n",
       "      <td>2.014665e+08</td>\n",
       "    </tr>\n",
       "    <tr>\n",
       "      <th>2013-07-01</th>\n",
       "      <td>NaN</td>\n",
       "      <td>NaN</td>\n",
       "      <td>NaN</td>\n",
       "      <td>0.002142</td>\n",
       "      <td>2.018980e+08</td>\n",
       "    </tr>\n",
       "    <tr>\n",
       "      <th>2013-10-01</th>\n",
       "      <td>NaN</td>\n",
       "      <td>NaN</td>\n",
       "      <td>NaN</td>\n",
       "      <td>0.002142</td>\n",
       "      <td>2.023304e+08</td>\n",
       "    </tr>\n",
       "    <tr>\n",
       "      <th>2014-01-01</th>\n",
       "      <td>202763744.0</td>\n",
       "      <td>201035904.0</td>\n",
       "      <td>0.008595</td>\n",
       "      <td>0.002099</td>\n",
       "      <td>2.027637e+08</td>\n",
       "    </tr>\n",
       "    <tr>\n",
       "      <th>2014-04-01</th>\n",
       "      <td>NaN</td>\n",
       "      <td>NaN</td>\n",
       "      <td>NaN</td>\n",
       "      <td>0.002099</td>\n",
       "      <td>2.031894e+08</td>\n",
       "    </tr>\n",
       "  </tbody>\n",
       "</table>\n",
       "</div>"
      ],
      "text/plain": [
       "            POPTOTBRA647NWDB    POP_{t-1}  taxa_anual  taxa_trimestral  \\\n",
       "DATE                                                                     \n",
       "2012-01-01       199287292.0          NaN         NaN         0.002186   \n",
       "2012-04-01               NaN          NaN         NaN         0.002186   \n",
       "2012-07-01               NaN          NaN         NaN         0.002186   \n",
       "2012-10-01               NaN          NaN         NaN         0.002186   \n",
       "2013-01-01       201035904.0  199287292.0    0.008774         0.002142   \n",
       "2013-04-01               NaN          NaN         NaN         0.002142   \n",
       "2013-07-01               NaN          NaN         NaN         0.002142   \n",
       "2013-10-01               NaN          NaN         NaN         0.002142   \n",
       "2014-01-01       202763744.0  201035904.0    0.008595         0.002099   \n",
       "2014-04-01               NaN          NaN         NaN         0.002099   \n",
       "\n",
       "            pop_estimada  \n",
       "DATE                      \n",
       "2012-01-01  1.992873e+08  \n",
       "2012-04-01  1.997230e+08  \n",
       "2012-07-01  2.001597e+08  \n",
       "2012-10-01  2.005973e+08  \n",
       "2013-01-01  2.010359e+08  \n",
       "2013-04-01  2.014665e+08  \n",
       "2013-07-01  2.018980e+08  \n",
       "2013-10-01  2.023304e+08  \n",
       "2014-01-01  2.027637e+08  \n",
       "2014-04-01  2.031894e+08  "
      ]
     },
     "execution_count": 53,
     "metadata": {},
     "output_type": "execute_result"
    }
   ],
   "source": [
    "pop.head(10)"
   ]
  },
  {
   "cell_type": "code",
   "execution_count": 54,
   "metadata": {},
   "outputs": [],
   "source": [
    "consumo['pop'] = pop['pop_estimada']"
   ]
  },
  {
   "cell_type": "code",
   "execution_count": 55,
   "metadata": {},
   "outputs": [],
   "source": [
    "consumo['consumo_percapita'] = consumo['NAEXKP02BRQ189S']/consumo['pop']"
   ]
  },
  {
   "cell_type": "markdown",
   "metadata": {},
   "source": [
    "A taxa de crescimento bruta do consumo pode ser obtida através de\n",
    "\n",
    "$$\n",
    "\\Delta c_t = \\left(\\frac{c_t}{c_{t-1}}\\right)\n",
    "$$\n",
    "\n",
    "onde $c_t$ é o consumo per capita em $t$."
   ]
  },
  {
   "cell_type": "code",
   "execution_count": 56,
   "metadata": {},
   "outputs": [],
   "source": [
    "consumo['consumo_percapita_{t-1}'] = consumo['consumo_percapita'].shift(1)"
   ]
  },
  {
   "cell_type": "code",
   "execution_count": 57,
   "metadata": {},
   "outputs": [],
   "source": [
    "consumo['Delta_c'] = consumo['consumo_percapita']/consumo['consumo_percapita_{t-1}']"
   ]
  },
  {
   "cell_type": "markdown",
   "metadata": {},
   "source": [
    "Como 2012-04-01 representa o consumo no segundo trimetre de 2012 no dataframe de consumo e 2012-06-30 representa o fechamento do Ibovespa do segundo trimestre de 2012. Então temos que as datas estão representando períodos diferentes entre os dataframes. Vamos normalizar isso"
   ]
  },
  {
   "cell_type": "code",
   "execution_count": 58,
   "metadata": {},
   "outputs": [],
   "source": [
    "consumo = consumo[1:]"
   ]
  },
  {
   "cell_type": "code",
   "execution_count": 59,
   "metadata": {},
   "outputs": [],
   "source": [
    "# normalizando o índice para os três dataframes ficarem iguais\n",
    "consumo['index'] = ibov.index"
   ]
  },
  {
   "cell_type": "code",
   "execution_count": 60,
   "metadata": {},
   "outputs": [],
   "source": [
    "consumo = consumo.set_index('index')"
   ]
  },
  {
   "cell_type": "code",
   "execution_count": 61,
   "metadata": {},
   "outputs": [
    {
     "data": {
      "text/html": [
       "<div>\n",
       "<style scoped>\n",
       "    .dataframe tbody tr th:only-of-type {\n",
       "        vertical-align: middle;\n",
       "    }\n",
       "\n",
       "    .dataframe tbody tr th {\n",
       "        vertical-align: top;\n",
       "    }\n",
       "\n",
       "    .dataframe thead th {\n",
       "        text-align: right;\n",
       "    }\n",
       "</style>\n",
       "<table border=\"1\" class=\"dataframe\">\n",
       "  <thead>\n",
       "    <tr style=\"text-align: right;\">\n",
       "      <th></th>\n",
       "      <th>NAEXKP02BRQ189S</th>\n",
       "      <th>pop</th>\n",
       "      <th>consumo_percapita</th>\n",
       "      <th>consumo_percapita_{t-1}</th>\n",
       "      <th>Delta_c</th>\n",
       "    </tr>\n",
       "    <tr>\n",
       "      <th>index</th>\n",
       "      <th></th>\n",
       "      <th></th>\n",
       "      <th></th>\n",
       "      <th></th>\n",
       "      <th></th>\n",
       "    </tr>\n",
       "  </thead>\n",
       "  <tbody>\n",
       "    <tr>\n",
       "      <th>2012-06-30</th>\n",
       "      <td>1.946165e+11</td>\n",
       "      <td>1.997230e+08</td>\n",
       "      <td>974.432202</td>\n",
       "      <td>969.080023</td>\n",
       "      <td>1.005523</td>\n",
       "    </tr>\n",
       "    <tr>\n",
       "      <th>2012-09-30</th>\n",
       "      <td>1.971950e+11</td>\n",
       "      <td>2.001597e+08</td>\n",
       "      <td>985.188204</td>\n",
       "      <td>974.432202</td>\n",
       "      <td>1.011038</td>\n",
       "    </tr>\n",
       "    <tr>\n",
       "      <th>2012-12-31</th>\n",
       "      <td>1.993447e+11</td>\n",
       "      <td>2.005973e+08</td>\n",
       "      <td>993.755424</td>\n",
       "      <td>985.188204</td>\n",
       "      <td>1.008696</td>\n",
       "    </tr>\n",
       "    <tr>\n",
       "      <th>2013-03-31</th>\n",
       "      <td>2.003120e+11</td>\n",
       "      <td>2.010359e+08</td>\n",
       "      <td>996.399101</td>\n",
       "      <td>993.755424</td>\n",
       "      <td>1.002660</td>\n",
       "    </tr>\n",
       "    <tr>\n",
       "      <th>2013-06-30</th>\n",
       "      <td>2.029082e+11</td>\n",
       "      <td>2.014665e+08</td>\n",
       "      <td>1007.156136</td>\n",
       "      <td>996.399101</td>\n",
       "      <td>1.010796</td>\n",
       "    </tr>\n",
       "    <tr>\n",
       "      <th>2013-09-30</th>\n",
       "      <td>2.042542e+11</td>\n",
       "      <td>2.018980e+08</td>\n",
       "      <td>1011.670265</td>\n",
       "      <td>1007.156136</td>\n",
       "      <td>1.004482</td>\n",
       "    </tr>\n",
       "    <tr>\n",
       "      <th>2013-12-31</th>\n",
       "      <td>2.040599e+11</td>\n",
       "      <td>2.023304e+08</td>\n",
       "      <td>1008.547673</td>\n",
       "      <td>1011.670265</td>\n",
       "      <td>0.996913</td>\n",
       "    </tr>\n",
       "    <tr>\n",
       "      <th>2014-03-31</th>\n",
       "      <td>2.073897e+11</td>\n",
       "      <td>2.027637e+08</td>\n",
       "      <td>1022.814570</td>\n",
       "      <td>1008.547673</td>\n",
       "      <td>1.014146</td>\n",
       "    </tr>\n",
       "    <tr>\n",
       "      <th>2014-06-30</th>\n",
       "      <td>2.062680e+11</td>\n",
       "      <td>2.031894e+08</td>\n",
       "      <td>1015.151529</td>\n",
       "      <td>1022.814570</td>\n",
       "      <td>0.992508</td>\n",
       "    </tr>\n",
       "    <tr>\n",
       "      <th>2014-09-30</th>\n",
       "      <td>2.065748e+11</td>\n",
       "      <td>2.036160e+08</td>\n",
       "      <td>1014.531540</td>\n",
       "      <td>1015.151529</td>\n",
       "      <td>0.999389</td>\n",
       "    </tr>\n",
       "  </tbody>\n",
       "</table>\n",
       "</div>"
      ],
      "text/plain": [
       "            NAEXKP02BRQ189S           pop  consumo_percapita  \\\n",
       "index                                                          \n",
       "2012-06-30     1.946165e+11  1.997230e+08         974.432202   \n",
       "2012-09-30     1.971950e+11  2.001597e+08         985.188204   \n",
       "2012-12-31     1.993447e+11  2.005973e+08         993.755424   \n",
       "2013-03-31     2.003120e+11  2.010359e+08         996.399101   \n",
       "2013-06-30     2.029082e+11  2.014665e+08        1007.156136   \n",
       "2013-09-30     2.042542e+11  2.018980e+08        1011.670265   \n",
       "2013-12-31     2.040599e+11  2.023304e+08        1008.547673   \n",
       "2014-03-31     2.073897e+11  2.027637e+08        1022.814570   \n",
       "2014-06-30     2.062680e+11  2.031894e+08        1015.151529   \n",
       "2014-09-30     2.065748e+11  2.036160e+08        1014.531540   \n",
       "\n",
       "            consumo_percapita_{t-1}   Delta_c  \n",
       "index                                          \n",
       "2012-06-30               969.080023  1.005523  \n",
       "2012-09-30               974.432202  1.011038  \n",
       "2012-12-31               985.188204  1.008696  \n",
       "2013-03-31               993.755424  1.002660  \n",
       "2013-06-30               996.399101  1.010796  \n",
       "2013-09-30              1007.156136  1.004482  \n",
       "2013-12-31              1011.670265  0.996913  \n",
       "2014-03-31              1008.547673  1.014146  \n",
       "2014-06-30              1022.814570  0.992508  \n",
       "2014-09-30              1015.151529  0.999389  "
      ]
     },
     "execution_count": 61,
     "metadata": {},
     "output_type": "execute_result"
    }
   ],
   "source": [
    "consumo.head(10)"
   ]
  },
  {
   "cell_type": "markdown",
   "metadata": {},
   "source": [
    "### DataFrame final"
   ]
  },
  {
   "cell_type": "code",
   "execution_count": 62,
   "metadata": {},
   "outputs": [],
   "source": [
    "df = pd.DataFrame(index = ibov.index)"
   ]
  },
  {
   "cell_type": "code",
   "execution_count": 63,
   "metadata": {},
   "outputs": [],
   "source": [
    "df['r_e'] = ibov['re_real']\n",
    "df['r_f'] = futurodi['rf_real']\n",
    "df['Delta_c'] = consumo['Delta_c']"
   ]
  },
  {
   "cell_type": "code",
   "execution_count": 64,
   "metadata": {},
   "outputs": [
    {
     "data": {
      "text/html": [
       "<div>\n",
       "<style scoped>\n",
       "    .dataframe tbody tr th:only-of-type {\n",
       "        vertical-align: middle;\n",
       "    }\n",
       "\n",
       "    .dataframe tbody tr th {\n",
       "        vertical-align: top;\n",
       "    }\n",
       "\n",
       "    .dataframe thead th {\n",
       "        text-align: right;\n",
       "    }\n",
       "</style>\n",
       "<table border=\"1\" class=\"dataframe\">\n",
       "  <thead>\n",
       "    <tr style=\"text-align: right;\">\n",
       "      <th></th>\n",
       "      <th>r_e</th>\n",
       "      <th>r_f</th>\n",
       "      <th>Delta_c</th>\n",
       "    </tr>\n",
       "  </thead>\n",
       "  <tbody>\n",
       "    <tr>\n",
       "      <th>2012-06-30</th>\n",
       "      <td>NaN</td>\n",
       "      <td>NaN</td>\n",
       "      <td>1.005523</td>\n",
       "    </tr>\n",
       "    <tr>\n",
       "      <th>2012-09-30</th>\n",
       "      <td>0.327972</td>\n",
       "      <td>0.014229</td>\n",
       "      <td>1.011038</td>\n",
       "    </tr>\n",
       "    <tr>\n",
       "      <th>2012-12-31</th>\n",
       "      <td>0.040132</td>\n",
       "      <td>-0.011453</td>\n",
       "      <td>1.008696</td>\n",
       "    </tr>\n",
       "    <tr>\n",
       "      <th>2013-03-31</th>\n",
       "      <td>-0.323493</td>\n",
       "      <td>-0.009041</td>\n",
       "      <td>1.002660</td>\n",
       "    </tr>\n",
       "    <tr>\n",
       "      <th>2013-06-30</th>\n",
       "      <td>-0.520146</td>\n",
       "      <td>0.031305</td>\n",
       "      <td>1.010796</td>\n",
       "    </tr>\n",
       "    <tr>\n",
       "      <th>2013-09-30</th>\n",
       "      <td>0.443154</td>\n",
       "      <td>0.064490</td>\n",
       "      <td>1.004482</td>\n",
       "    </tr>\n",
       "    <tr>\n",
       "      <th>2013-12-31</th>\n",
       "      <td>-0.134916</td>\n",
       "      <td>0.014109</td>\n",
       "      <td>0.996913</td>\n",
       "    </tr>\n",
       "    <tr>\n",
       "      <th>2014-03-31</th>\n",
       "      <td>-0.157846</td>\n",
       "      <td>0.016093</td>\n",
       "      <td>1.014146</td>\n",
       "    </tr>\n",
       "    <tr>\n",
       "      <th>2014-06-30</th>\n",
       "      <td>0.163736</td>\n",
       "      <td>0.042526</td>\n",
       "      <td>0.992508</td>\n",
       "    </tr>\n",
       "    <tr>\n",
       "      <th>2014-09-30</th>\n",
       "      <td>0.038285</td>\n",
       "      <td>0.072240</td>\n",
       "      <td>0.999389</td>\n",
       "    </tr>\n",
       "  </tbody>\n",
       "</table>\n",
       "</div>"
      ],
      "text/plain": [
       "                 r_e       r_f   Delta_c\n",
       "2012-06-30       NaN       NaN  1.005523\n",
       "2012-09-30  0.327972  0.014229  1.011038\n",
       "2012-12-31  0.040132 -0.011453  1.008696\n",
       "2013-03-31 -0.323493 -0.009041  1.002660\n",
       "2013-06-30 -0.520146  0.031305  1.010796\n",
       "2013-09-30  0.443154  0.064490  1.004482\n",
       "2013-12-31 -0.134916  0.014109  0.996913\n",
       "2014-03-31 -0.157846  0.016093  1.014146\n",
       "2014-06-30  0.163736  0.042526  0.992508\n",
       "2014-09-30  0.038285  0.072240  0.999389"
      ]
     },
     "execution_count": 64,
     "metadata": {},
     "output_type": "execute_result"
    }
   ],
   "source": [
    "df.head(10)"
   ]
  },
  {
   "cell_type": "markdown",
   "metadata": {},
   "source": [
    "Vamos definir função critério $J(\\beta,\\gamma)$ com:\n",
    "\n",
    "Momento populacional\n",
    "\n",
    "$$\n",
    "\\operatorname{argmax}_{\\beta, \\gamma} J(\\beta, \\gamma)=\\mathbb{E}\\left(g(\\beta, \\gamma)^{\\prime}\\right) W \\mathbb{E}\\left(g(\\beta, \\gamma)\\right).\n",
    "$$\n",
    "\n",
    "Momentos amostrais:\n",
    "\n",
    "$$\n",
    "\\operatorname{argmax}_{\\beta, \\gamma} J(\\beta, \\gamma)=\\frac{1}{T} \\times \\bar{g}_T(\\beta, \\gamma)^{\\prime} W \\bar{g}_T(\\beta, \\gamma)\n",
    "$$\n",
    "\n",
    "where\n",
    "- $\\beta$ é o fator de desconto temporal.\n",
    "- $\\gamma$ é o coeficiênte de aversão relativa ao risco.\n",
    "- $\\bar{g}_T$ é o momento amostral.\n",
    "- $W$ é a matriz de ponderação. Como o intuito dessa matriz é ganhar eficiência, usaremos a matriz identidade a priori $W = I$."
   ]
  },
  {
   "cell_type": "markdown",
   "metadata": {},
   "source": [
    "Partiremos do Valor Presente Descontado sob a condição de não arbitragem \n",
    "\n",
    "$$\n",
    "\\mathbb{E}_t[M_{t+1,t} R_{t+1}^j] = 1\n",
    "\\tag{1}\n",
    "$$\n",
    "\n",
    "onde $M_{t+1,t}$ representa o fator estocástico de desconto e $R_{t+1}^j$ o retorno bruto do ativo $j$, enquanto $t=1,...,T$ denota o período coberto trimestralmente. "
   ]
  },
  {
   "cell_type": "markdown",
   "metadata": {},
   "source": [
    "Substituindo dentro da equação $(1)$ o fator estocástico de desconto $M_{t+1,t} = \\beta\\frac{u'(c_{t+1})}{u'(c_t)}$ chegamos que\n",
    "\n",
    "\n",
    "$$\n",
    "\\mathbb{E}_t \\left[\\beta\\frac{u'(c_{t+1})}{u'(c_t)} R_{t+1}^j\\right] = 1\n",
    "$$\n",
    "\n",
    "$$\n",
    "\\mathbb{E}_t \\left[\\beta\\frac{u'(c_{t+1})}{u'(c_t)} R_{t+1}^j - 1 \\right] = 0\n",
    "$$\n",
    "\n",
    "onde o subscrito $t$ no operador da esperança significa condicional ao conjunto informacional em $t$. Denote por $\\mathcal{F}_t$ tal conjunto informacional.\n",
    "\n",
    "$$\n",
    "\\mathbb{E} \\left[\\beta\\frac{u'(c_{t+1})}{u'(c_t)} R_{t+1}^j - 1 \\;\\middle|\\; \\mathcal{F}_t \\right] = 0\n",
    "$$"
   ]
  },
  {
   "cell_type": "markdown",
   "metadata": {},
   "source": [
    "Queremos incorporar o conjunto informacional para que tenhamos uma esperança incondicional. Vamos modelar com \"instrumentos\". Supondo que $Z_t$ modela o conjunto informacional $\\mathcal{F}_t$.\n",
    "\n",
    "$$\n",
    "\\mathbb{E} \\left[\\beta\\frac{u'(c_{t+1})}{u'(c_t)} R_{t+1}^j - 1 \\;\\middle|\\; Z_t \\right] = 0\n",
    "\\tag{2}\n",
    "$$\n",
    "\n",
    "$$\n",
    "\\Rightarrow \\mathbb{E} \\left[\\beta\\frac{u'(c_{t+1})}{u'(c_t)} R_{t+1}^j - 1 \\;\\middle|\\; Z_t \\right] \\otimes Z_t = 0\n",
    "$$\n",
    "\n",
    "onde $\\otimes$ denota o produto de Kronecker.\n"
   ]
  },
  {
   "cell_type": "markdown",
   "metadata": {},
   "source": [
    "$$\n",
    "\\Rightarrow \\mathbb{E} \\left[\\beta\\frac{u'(c_{t+1})}{u'(c_t)} R_{t+1}^j \\otimes Z_t - 1 \\otimes Z_t \\;\\middle|\\; Z_t \\right] = 0\n",
    "$$\n",
    "\n",
    "Podemos tirar o condicional e chegamos (a proof dessa passagem está na próxima celula).\n",
    "\n",
    "$$\n",
    "\\Rightarrow \\mathbb{E} \\left[\\beta\\frac{u'(c_{t+1})}{u'(c_t)} R_{t+1}^j \\otimes Z_t - 1 \\otimes Z_t \\right] = 0\n",
    "\\tag{3}\n",
    "$$\n",
    "\n",
    "onde a equação $(3)$ representa a condição de momento populacional. "
   ]
  },
  {
   "cell_type": "markdown",
   "metadata": {},
   "source": [
    "Proof) Tome a lei das expectativas iteradas na equação $(3)$:\n",
    "\n",
    "$$\n",
    "\\mathbb{E} \\left[\\left(\\beta \\frac{u'(c_{t+1})}{u'(c_t)} R_{t+1}^j - 1\\right) \\otimes Z_t\\right] = 0\n",
    "$$\n",
    "\n",
    "$$\n",
    "\\Rightarrow \\mathbb{E} \\left( \\mathbb{E} \\left[\\left(\\beta \\frac{u'(c_{t+1})}{u'(c_t)} R_{t+1}^j - 1\\right) \\otimes Z_t \\;\\middle|\\; Z_t \\right] \\right) = 0\n",
    "$$\n",
    "\n",
    "distribuindo o condicional\n",
    "\n",
    "$$\n",
    "\\Rightarrow \\mathbb{E} \\left( \\mathbb{E} \\left[ \\left( \\beta \\frac{u'(c_{t+1})}{u'(c_t)} R_{t+1}^j - 1 \\right) \\;\\middle|\\; Z_t  \\otimes \\underbrace{Z_t \\mid Z_t}_{Z_t \\mid Z_t=Z_t} \\right] \\right) = 0\n",
    "$$\n",
    "\n",
    "\n",
    "$$\n",
    "\\Rightarrow \\mathbb{E} \\left( \\left[ \\underbrace{\\mathbb{E} \\left( \\beta \\frac{u'(c_{t+1})}{u'(c_t)} R_{t+1}^j - 1 \\;\\middle|\\; Z_t \\right)}_{= 0} \\otimes Z_t \\right] \\right) = 0\n",
    "$$\n",
    "\n",
    "onde a esperança de dentro é zero pela equação $(2)$"
   ]
  },
  {
   "cell_type": "code",
   "execution_count": 65,
   "metadata": {},
   "outputs": [],
   "source": [
    "# retornos brutos\n",
    "df['R_e'] = 1 + df['r_e']\n",
    "df['R_f'] = 1 + df['r_f']"
   ]
  },
  {
   "cell_type": "markdown",
   "metadata": {},
   "source": [
    "Precisamos agora, definir quem são os elementos do conjunto informacional $Z_t$. Vamos definir como uma constante, taxa de crescimento real do consumo per capita defasada em um trimestre $\\Delta c_{t}$, retorno bruto trimestral do Ibovespa defasado em um trimestre $R_{t}^i$ e a taxa bruta do futuro DI de 1 mês defasado em um trimestre $R_{t}^f$.\n",
    "\n",
    "$$\n",
    "Z_t = \\left[1, \\Delta c_{t}, R_{t}^i, R_{t}^f \\right]\n",
    "$$"
   ]
  },
  {
   "cell_type": "code",
   "execution_count": 66,
   "metadata": {},
   "outputs": [],
   "source": [
    "# instrumentos\n",
    "df['1'] = 1\n",
    "df['Delta_c_1'] = df['Delta_c'].shift(1)\n",
    "df['R_e_1'] = df['R_e'].shift(1)\n",
    "df['R_f_1'] = df['R_f'].shift(1)"
   ]
  },
  {
   "cell_type": "code",
   "execution_count": 67,
   "metadata": {},
   "outputs": [],
   "source": [
    "df = df.dropna()"
   ]
  },
  {
   "cell_type": "code",
   "execution_count": 68,
   "metadata": {},
   "outputs": [
    {
     "data": {
      "text/html": [
       "<div>\n",
       "<style scoped>\n",
       "    .dataframe tbody tr th:only-of-type {\n",
       "        vertical-align: middle;\n",
       "    }\n",
       "\n",
       "    .dataframe tbody tr th {\n",
       "        vertical-align: top;\n",
       "    }\n",
       "\n",
       "    .dataframe thead th {\n",
       "        text-align: right;\n",
       "    }\n",
       "</style>\n",
       "<table border=\"1\" class=\"dataframe\">\n",
       "  <thead>\n",
       "    <tr style=\"text-align: right;\">\n",
       "      <th></th>\n",
       "      <th>r_e</th>\n",
       "      <th>r_f</th>\n",
       "      <th>Delta_c</th>\n",
       "      <th>R_e</th>\n",
       "      <th>R_f</th>\n",
       "      <th>1</th>\n",
       "      <th>Delta_c_1</th>\n",
       "      <th>R_e_1</th>\n",
       "      <th>R_f_1</th>\n",
       "    </tr>\n",
       "  </thead>\n",
       "  <tbody>\n",
       "    <tr>\n",
       "      <th>2012-12-31</th>\n",
       "      <td>0.040132</td>\n",
       "      <td>-0.011453</td>\n",
       "      <td>1.008696</td>\n",
       "      <td>1.040132</td>\n",
       "      <td>0.988547</td>\n",
       "      <td>1</td>\n",
       "      <td>1.011038</td>\n",
       "      <td>1.327972</td>\n",
       "      <td>1.014229</td>\n",
       "    </tr>\n",
       "    <tr>\n",
       "      <th>2013-03-31</th>\n",
       "      <td>-0.323493</td>\n",
       "      <td>-0.009041</td>\n",
       "      <td>1.002660</td>\n",
       "      <td>0.676507</td>\n",
       "      <td>0.990959</td>\n",
       "      <td>1</td>\n",
       "      <td>1.008696</td>\n",
       "      <td>1.040132</td>\n",
       "      <td>0.988547</td>\n",
       "    </tr>\n",
       "    <tr>\n",
       "      <th>2013-06-30</th>\n",
       "      <td>-0.520146</td>\n",
       "      <td>0.031305</td>\n",
       "      <td>1.010796</td>\n",
       "      <td>0.479854</td>\n",
       "      <td>1.031305</td>\n",
       "      <td>1</td>\n",
       "      <td>1.002660</td>\n",
       "      <td>0.676507</td>\n",
       "      <td>0.990959</td>\n",
       "    </tr>\n",
       "    <tr>\n",
       "      <th>2013-09-30</th>\n",
       "      <td>0.443154</td>\n",
       "      <td>0.064490</td>\n",
       "      <td>1.004482</td>\n",
       "      <td>1.443154</td>\n",
       "      <td>1.064490</td>\n",
       "      <td>1</td>\n",
       "      <td>1.010796</td>\n",
       "      <td>0.479854</td>\n",
       "      <td>1.031305</td>\n",
       "    </tr>\n",
       "    <tr>\n",
       "      <th>2013-12-31</th>\n",
       "      <td>-0.134916</td>\n",
       "      <td>0.014109</td>\n",
       "      <td>0.996913</td>\n",
       "      <td>0.865084</td>\n",
       "      <td>1.014109</td>\n",
       "      <td>1</td>\n",
       "      <td>1.004482</td>\n",
       "      <td>1.443154</td>\n",
       "      <td>1.064490</td>\n",
       "    </tr>\n",
       "    <tr>\n",
       "      <th>2014-03-31</th>\n",
       "      <td>-0.157846</td>\n",
       "      <td>0.016093</td>\n",
       "      <td>1.014146</td>\n",
       "      <td>0.842154</td>\n",
       "      <td>1.016093</td>\n",
       "      <td>1</td>\n",
       "      <td>0.996913</td>\n",
       "      <td>0.865084</td>\n",
       "      <td>1.014109</td>\n",
       "    </tr>\n",
       "    <tr>\n",
       "      <th>2014-06-30</th>\n",
       "      <td>0.163736</td>\n",
       "      <td>0.042526</td>\n",
       "      <td>0.992508</td>\n",
       "      <td>1.163736</td>\n",
       "      <td>1.042526</td>\n",
       "      <td>1</td>\n",
       "      <td>1.014146</td>\n",
       "      <td>0.842154</td>\n",
       "      <td>1.016093</td>\n",
       "    </tr>\n",
       "    <tr>\n",
       "      <th>2014-09-30</th>\n",
       "      <td>0.038285</td>\n",
       "      <td>0.072240</td>\n",
       "      <td>0.999389</td>\n",
       "      <td>1.038285</td>\n",
       "      <td>1.072240</td>\n",
       "      <td>1</td>\n",
       "      <td>0.992508</td>\n",
       "      <td>1.163736</td>\n",
       "      <td>1.042526</td>\n",
       "    </tr>\n",
       "    <tr>\n",
       "      <th>2014-12-31</th>\n",
       "      <td>-0.318909</td>\n",
       "      <td>0.044004</td>\n",
       "      <td>1.012441</td>\n",
       "      <td>0.681091</td>\n",
       "      <td>1.044004</td>\n",
       "      <td>1</td>\n",
       "      <td>0.999389</td>\n",
       "      <td>1.038285</td>\n",
       "      <td>1.072240</td>\n",
       "    </tr>\n",
       "    <tr>\n",
       "      <th>2015-03-31</th>\n",
       "      <td>-0.058100</td>\n",
       "      <td>-0.030969</td>\n",
       "      <td>0.980856</td>\n",
       "      <td>0.941900</td>\n",
       "      <td>0.969031</td>\n",
       "      <td>1</td>\n",
       "      <td>1.012441</td>\n",
       "      <td>0.681091</td>\n",
       "      <td>1.044004</td>\n",
       "    </tr>\n",
       "  </tbody>\n",
       "</table>\n",
       "</div>"
      ],
      "text/plain": [
       "                 r_e       r_f   Delta_c       R_e       R_f  1  Delta_c_1  \\\n",
       "2012-12-31  0.040132 -0.011453  1.008696  1.040132  0.988547  1   1.011038   \n",
       "2013-03-31 -0.323493 -0.009041  1.002660  0.676507  0.990959  1   1.008696   \n",
       "2013-06-30 -0.520146  0.031305  1.010796  0.479854  1.031305  1   1.002660   \n",
       "2013-09-30  0.443154  0.064490  1.004482  1.443154  1.064490  1   1.010796   \n",
       "2013-12-31 -0.134916  0.014109  0.996913  0.865084  1.014109  1   1.004482   \n",
       "2014-03-31 -0.157846  0.016093  1.014146  0.842154  1.016093  1   0.996913   \n",
       "2014-06-30  0.163736  0.042526  0.992508  1.163736  1.042526  1   1.014146   \n",
       "2014-09-30  0.038285  0.072240  0.999389  1.038285  1.072240  1   0.992508   \n",
       "2014-12-31 -0.318909  0.044004  1.012441  0.681091  1.044004  1   0.999389   \n",
       "2015-03-31 -0.058100 -0.030969  0.980856  0.941900  0.969031  1   1.012441   \n",
       "\n",
       "               R_e_1     R_f_1  \n",
       "2012-12-31  1.327972  1.014229  \n",
       "2013-03-31  1.040132  0.988547  \n",
       "2013-06-30  0.676507  0.990959  \n",
       "2013-09-30  0.479854  1.031305  \n",
       "2013-12-31  1.443154  1.064490  \n",
       "2014-03-31  0.865084  1.014109  \n",
       "2014-06-30  0.842154  1.016093  \n",
       "2014-09-30  1.163736  1.042526  \n",
       "2014-12-31  1.038285  1.072240  \n",
       "2015-03-31  0.681091  1.044004  "
      ]
     },
     "execution_count": 68,
     "metadata": {},
     "output_type": "execute_result"
    }
   ],
   "source": [
    "df.head(10)"
   ]
  },
  {
   "cell_type": "code",
   "execution_count": 69,
   "metadata": {},
   "outputs": [],
   "source": [
    "# coletando os dados\n",
    "\n",
    "Z = df[['1', 'R_e_1', 'R_f_1', 'Delta_c_1']].values\n",
    "DeltaC = df['Delta_c'].values.tolist()\n",
    "R_e = df['R_e'].values.tolist()\n",
    "R_f = df['R_f'].values.tolist()"
   ]
  },
  {
   "cell_type": "markdown",
   "metadata": {},
   "source": [
    "Sob a hipótese de utilidade CRRA (Constant Relative Risk Aversion)\n",
    "\n",
    "$$\n",
    "U(c) = \\sum_{t=0}^T \\beta^t\\frac{c_t^{1-\\gamma}}{1-\\gamma}\n",
    "$$\n",
    "\n",
    "temos então que\n",
    "\n",
    "$$\n",
    "u(c_t) = \\frac{c_t^{1-\\gamma}}{1-\\gamma}\n",
    "$$\n",
    "\n",
    "e então\n",
    "\n",
    "$$\n",
    "u'(c_t) = c_t^{-\\gamma}\n",
    "$$"
   ]
  },
  {
   "cell_type": "markdown",
   "metadata": {},
   "source": [
    "Portanto, a condição de momento populacional se torna\n",
    "\n",
    "$$\n",
    "\\mathbb{E} \\left[\\left(\\beta\\left(\\frac{c_{t+1}}{c_t}\\right)^{-\\gamma} R_{t+1}^j - 1 \\right)\\otimes Z_t \\right] = 0\n",
    "$$"
   ]
  },
  {
   "cell_type": "code",
   "execution_count": 70,
   "metadata": {},
   "outputs": [],
   "source": [
    "# equação de valor presente descontado sob não arbitragem (Equação de Euler)\n",
    "\n",
    "VPL = np.zeros(len(df))\n",
    "\n",
    "def VPL_function(beta, gamma, R):\n",
    "    for t in range(len(df)):\n",
    "        VPL[t] = (beta*(DeltaC[t]**(-gamma))*R[t]) - 1\n",
    "    \n",
    "    return VPL"
   ]
  },
  {
   "cell_type": "markdown",
   "metadata": {},
   "source": [
    "Temos então que o momento amostral é definido como\n",
    "\n",
    "$$\n",
    "\\bar{g}_T' = \\frac{1}{T}\\sum_{t=0}^T \\underbrace{\\left( \\underbrace{\\left[\\beta \\left(\\frac{c_{t+1}}{c_t}\\right)^{-\\gamma} R_{t+1}^j - 1 \\right]}_{1\\operatorname{x}1} \\otimes \\underbrace{\\left[1, \\Delta c_{t}, r_{t}^i, r_{t}^f \\right]}_{1\\operatorname{x}4} \\right)}_{1\\otimes 4 = 1\\operatorname{x}4}\n",
    "$$"
   ]
  },
  {
   "cell_type": "code",
   "execution_count": 71,
   "metadata": {},
   "outputs": [],
   "source": [
    "T = len(df)\n",
    "\n",
    "def g(beta, gamma, R):\n",
    "\n",
    "    temp_matrix = np.zeros((len(df), len(Z.T)))\n",
    "\n",
    "    VPL = np.array(VPL_function(beta, gamma, R))\n",
    "    \n",
    "    for t in range(T):\n",
    "        temp_matrix[t] = np.kron(VPL[t], Z[t,:])\n",
    "    \n",
    "    g = (1/T)*temp_matrix.sum(axis=0)\n",
    "\n",
    "    return g"
   ]
  },
  {
   "cell_type": "markdown",
   "metadata": {},
   "source": [
    "Assim, ficamos com uma função critério \n",
    "\n",
    "$$\n",
    "\\underbrace{J(\\beta,\\gamma)}_{1\\operatorname{x}1} = T \\cdot \\underbrace{\\bar{g}_T'}_{1\\operatorname{x}4} \\underbrace{W}_{4\\operatorname{x}4} \\underbrace{\\bar{g}_T}_{4\\operatorname{x}1}\n",
    "$$"
   ]
  },
  {
   "cell_type": "code",
   "execution_count": 72,
   "metadata": {},
   "outputs": [],
   "source": [
    "def J(x, R):\n",
    "    \n",
    "    beta = x[0]\n",
    "    gamma = x[1]\n",
    "\n",
    "    g_T = g(beta, gamma, R)\n",
    "\n",
    "    W = np.identity(len(g_T))\n",
    "    \n",
    "    J = T*(np.matmul(np.matmul(g_T, W), g_T.T))\n",
    "\n",
    "    return J"
   ]
  },
  {
   "cell_type": "code",
   "execution_count": 73,
   "metadata": {},
   "outputs": [
    {
     "name": "stdout",
     "output_type": "stream",
     "text": [
      "Optimization terminated successfully.\n",
      "         Current function value: 0.000113\n",
      "         Iterations: 120\n",
      "         Function evaluations: 222\n"
     ]
    }
   ],
   "source": [
    "res = minimize(J, [0 , 0], args = (R_e), method='Nelder-Mead', options={'xatol': 1e-7, 'disp': True, 'maxiter': 10000})"
   ]
  },
  {
   "cell_type": "code",
   "execution_count": 74,
   "metadata": {},
   "outputs": [
    {
     "name": "stdout",
     "output_type": "stream",
     "text": [
      "beta 0.8983728620674938 gamma -9.937960224084074\n"
     ]
    }
   ],
   "source": [
    "print('beta', res.x[0], 'gamma', res.x[1])"
   ]
  },
  {
   "cell_type": "code",
   "execution_count": 75,
   "metadata": {},
   "outputs": [
    {
     "name": "stdout",
     "output_type": "stream",
     "text": [
      "Optimization terminated successfully.\n",
      "         Current function value: 0.000045\n",
      "         Iterations: 105\n",
      "         Function evaluations: 197\n"
     ]
    }
   ],
   "source": [
    "res = minimize(J, [0, 0], args = (R_f), method='Nelder-Mead', options={'xatol': 1e-7, 'disp': True, 'maxiter': 10000})"
   ]
  },
  {
   "cell_type": "code",
   "execution_count": 76,
   "metadata": {},
   "outputs": [
    {
     "name": "stdout",
     "output_type": "stream",
     "text": [
      "beta 0.9785973162539487 gamma -0.5235638129745881\n"
     ]
    }
   ],
   "source": [
    "print('beta', res.x[0], 'gamma', res.x[1])"
   ]
  },
  {
   "cell_type": "markdown",
   "metadata": {},
   "source": [
    "Podemos também utilizar as funções prontas de python para avaliar os resultados. Utilizando a metodologia da função pronta, temos também o resultado do teste J de Hansen."
   ]
  },
  {
   "cell_type": "code",
   "execution_count": 77,
   "metadata": {},
   "outputs": [],
   "source": [
    "def moment_consumption1(params, exog):\n",
    "    beta, gamma = params\n",
    "    R, DeltaC = exog.T  \n",
    "    \n",
    "    err = 1 - beta * R * np.power(DeltaC, -gamma)\n",
    "    return -err"
   ]
  },
  {
   "cell_type": "code",
   "execution_count": 78,
   "metadata": {},
   "outputs": [],
   "source": [
    "exog1 = df[['R_e', 'Delta_c']].values\n",
    "exog2 = df[['R_f', 'Delta_c']].values"
   ]
  },
  {
   "cell_type": "code",
   "execution_count": 79,
   "metadata": {},
   "outputs": [
    {
     "name": "stdout",
     "output_type": "stream",
     "text": [
      "Optimization terminated successfully.\n",
      "         Current function value: 0.000003\n",
      "         Iterations: 8\n",
      "         Function evaluations: 15\n",
      "         Gradient evaluations: 15\n",
      "Optimization terminated successfully.\n",
      "         Current function value: 0.048171\n",
      "         Iterations: 7\n",
      "         Function evaluations: 12\n",
      "         Gradient evaluations: 12\n"
     ]
    }
   ],
   "source": [
    "endog1 = np.zeros(len(df))    \n",
    "mod1 = gmm.NonlinearIVGMM(endog1, exog1, Z, moment_consumption1, k_moms=4)\n",
    "w0inv = np.identity(4)\n",
    "res1 = mod1.fit([1,-1], maxiter=2, inv_weights=w0inv) "
   ]
  },
  {
   "cell_type": "code",
   "execution_count": 80,
   "metadata": {},
   "outputs": [
    {
     "name": "stdout",
     "output_type": "stream",
     "text": [
      "                            NonlinearIVGMM Results                            \n",
      "==============================================================================\n",
      "Dep. Variable:               Euler Eq   Hansen J:                        1.879\n",
      "Model:                 NonlinearIVGMM   Prob (Hansen J):                 0.391\n",
      "Method:                           GMM                                         \n",
      "Date:                Mon, 14 Nov 2022                                         \n",
      "Time:                        18:50:11                                         \n",
      "No. Observations:                  39                                         \n",
      "==============================================================================\n",
      "                 coef    std err          z      P>|z|      [0.025      0.975]\n",
      "------------------------------------------------------------------------------\n",
      "discount       0.9016      0.054     16.681      0.000       0.796       1.008\n",
      "CRRA          -6.2206      2.937     -2.118      0.034     -11.978      -0.463\n",
      "==============================================================================\n"
     ]
    }
   ],
   "source": [
    "print(res1.summary(yname='Euler Eq', xname=['discount', 'CRRA']))"
   ]
  },
  {
   "cell_type": "code",
   "execution_count": 81,
   "metadata": {},
   "outputs": [
    {
     "name": "stdout",
     "output_type": "stream",
     "text": [
      "Optimization terminated successfully.\n",
      "         Current function value: 0.000001\n",
      "         Iterations: 4\n",
      "         Function evaluations: 12\n",
      "         Gradient evaluations: 12\n",
      "Optimization terminated successfully.\n",
      "         Current function value: 0.229207\n",
      "         Iterations: 6\n",
      "         Function evaluations: 9\n",
      "         Gradient evaluations: 9\n"
     ]
    }
   ],
   "source": [
    "endog1 = np.zeros(len(df))    \n",
    "mod1 = gmm.NonlinearIVGMM(endog1, exog2, Z, moment_consumption1, k_moms=4)\n",
    "w0inv = np.identity(4)\n",
    "res1 = mod1.fit([1,-1], maxiter=2, inv_weights=w0inv)"
   ]
  },
  {
   "cell_type": "code",
   "execution_count": 82,
   "metadata": {},
   "outputs": [
    {
     "name": "stdout",
     "output_type": "stream",
     "text": [
      "                            NonlinearIVGMM Results                            \n",
      "==============================================================================\n",
      "Dep. Variable:               Euler Eq   Hansen J:                        8.939\n",
      "Model:                 NonlinearIVGMM   Prob (Hansen J):                0.0115\n",
      "Method:                           GMM                                         \n",
      "Date:                Mon, 14 Nov 2022                                         \n",
      "Time:                        18:50:11                                         \n",
      "No. Observations:                  39                                         \n",
      "==============================================================================\n",
      "                 coef    std err          z      P>|z|      [0.025      0.975]\n",
      "------------------------------------------------------------------------------\n",
      "discount       0.9777      0.006    156.954      0.000       0.966       0.990\n",
      "CRRA          -0.2075      0.506     -0.410      0.682      -1.199       0.784\n",
      "==============================================================================\n"
     ]
    }
   ],
   "source": [
    "print(res1.summary(yname='Euler Eq', xname=['discount', 'CRRA']))"
   ]
  }
 ],
 "metadata": {
  "kernelspec": {
   "display_name": "Python 3.10.2 64-bit",
   "language": "python",
   "name": "python3"
  },
  "language_info": {
   "codemirror_mode": {
    "name": "ipython",
    "version": 3
   },
   "file_extension": ".py",
   "mimetype": "text/x-python",
   "name": "python",
   "nbconvert_exporter": "python",
   "pygments_lexer": "ipython3",
   "version": "3.10.2"
  },
  "orig_nbformat": 4,
  "vscode": {
   "interpreter": {
    "hash": "c63d8c7d738c2960218a10995aedf0a7f67a49a231e71037adf0440953cdb45b"
   }
  }
 },
 "nbformat": 4,
 "nbformat_minor": 2
}
